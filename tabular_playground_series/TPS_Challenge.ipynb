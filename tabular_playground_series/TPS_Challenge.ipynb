{
  "nbformat": 4,
  "nbformat_minor": 0,
  "metadata": {
    "colab": {
      "provenance": [],
      "collapsed_sections": [
        "RlIeRXB1cdfr"
      ],
      "machine_shape": "hm"
    },
    "kernelspec": {
      "name": "python3",
      "display_name": "Python 3"
    },
    "language_info": {
      "name": "python"
    },
    "accelerator": "GPU",
    "gpuClass": "premium"
  },
  "cells": [
    {
      "cell_type": "markdown",
      "source": [
        "# Rocket League Challenge\n",
        "\n",
        "The dataset consists of sequences of snapshots of the state of a Rocket League match, including position and velocity of all players and the ball, as well as extra information.\n",
        "\n",
        "**Goal of the competition**: The goal of the competition is to predict -- from a given snapshot in the game -- for each team, the probability that they will score within the next 10 seconds of game time.\n",
        "\n",
        "The data was taken from professional Rocket League matches. Each event consists of a chronological series of frames recorded at 10 frames per second. All events begin with a kickoff, and most end in one team scoring a goal, but some are truncated and end with no goal scored due to circumstances which can cause gameplay strategies to shift, for example 1) nearing end of regulation (where the game continues until the ball touches the ground) or 2) becoming non-competitive, eg one team winning by 3+ goals with little time remaining."
      ],
      "metadata": {
        "id": "ibMhTjIXU--k"
      }
    },
    {
      "cell_type": "code",
      "source": [
        "from google.colab import drive\n",
        "drive.mount('/content/drive')"
      ],
      "metadata": {
        "id": "zSjrptepaxwV"
      },
      "execution_count": null,
      "outputs": []
    },
    {
      "cell_type": "code",
      "source": [
        "!pip install pytorch_lightning\n",
        "!pip install icecream\n",
        "!pip install pprinter\n",
        "!pip install optuna"
      ],
      "metadata": {
        "id": "4VM_21BOjMAr"
      },
      "execution_count": null,
      "outputs": []
    },
    {
      "cell_type": "code",
      "source": [
        "from icecream import ic\n",
        "from sklearn.model_selection import train_test_split, StratifiedKFold\n",
        "import numpy as np # linear algebra\n",
        "import pandas as pd # data processing, CSV file I/O (e.g. pd.read_csv)\n"
      ],
      "metadata": {
        "id": "wPf4joyigwRG"
      },
      "execution_count": null,
      "outputs": []
    },
    {
      "cell_type": "code",
      "source": [
        "# reduce mem usage\n",
        "# thanks to : ?.ipynb  for this function\n",
        "def reduce_mem_usage(df, verbose=False):\n",
        "    numerics = ['int16', 'int32', 'int64', 'float16', 'float32', 'float64']\n",
        "    start_mem = df.memory_usage().sum() / 1024**2    \n",
        "    for col in df.columns:\n",
        "        col_type = df[col].dtypes\n",
        "        if col_type in numerics:\n",
        "            c_min = df[col].min()\n",
        "            c_max = df[col].max()\n",
        "            if str(col_type)[:3] == 'int':\n",
        "                if c_min > np.iinfo(np.int8).min and c_max < np.iinfo(np.int8).max:\n",
        "                    df[col] = df[col].astype(np.int8)\n",
        "                elif c_min > np.iinfo(np.int16).min and c_max < np.iinfo(np.int16).max:\n",
        "                    df[col] = df[col].astype(np.int16)\n",
        "                elif c_min > np.iinfo(np.int32).min and c_max < np.iinfo(np.int32).max:\n",
        "                    df[col] = df[col].astype(np.int32)\n",
        "                elif c_min > np.iinfo(np.int64).min and c_max < np.iinfo(np.int64).max:\n",
        "                    df[col] = df[col].astype(np.int64)\n",
        "            else:\n",
        "                if c_min > np.finfo(np.float16).min and c_max < np.finfo(np.float16).max:\n",
        "                    df[col] = df[col].astype(np.float16)\n",
        "                elif c_min > np.finfo(np.float32).min and c_max < np.finfo(np.float32).max:\n",
        "                    df[col] = df[col].astype(np.float32)\n",
        "                else:\n",
        "                    df[col] = df[col].astype(np.float64)\n",
        "        else:\n",
        "            df[col] = df[col].astype('category')\n",
        "    end_mem = df.memory_usage().sum() / 1024**2\n",
        "    if verbose: print('Mem. usage decreased to {:5.2f} Mb ({:.1f}% reduction)'.format(end_mem, 100 * (start_mem - end_mem) / start_mem))\n",
        "    return df"
      ],
      "metadata": {
        "id": "X9nYVKdyjHe7"
      },
      "execution_count": null,
      "outputs": []
    },
    {
      "cell_type": "markdown",
      "source": [
        "# Creating Datasets"
      ],
      "metadata": {
        "id": "s415J4OLltga"
      }
    },
    {
      "cell_type": "code",
      "execution_count": null,
      "metadata": {
        "id": "Mqf131nbP9BK"
      },
      "outputs": [],
      "source": [
        "\n",
        "\n",
        "# Input data files are available in the read-only \"../input/\" directory\n",
        "# For example, running this (by clicking run or pressing Shift+Enter) will list all files under the input directory\n",
        "\n",
        "files_name = []\n",
        "import os\n",
        "for dirname, _, filenames in os.walk('//content/drive/MyDrive/Colab/HEC_MAJEUR/AI_ADVANCED/TPS_Challenge/tabular-playground-series-oct-2022/'):\n",
        "    for filename in filenames:\n",
        "        print(os.path.join(dirname, filename))\n",
        "        files_name.append(os.path.join(dirname, filename))\n",
        "\n",
        "\n"
      ]
    },
    {
      "cell_type": "markdown",
      "source": [
        "We shuffle the dataset and try to train a model as if the rows were independent. \n",
        "**we could also have used the timeseries information with recurrent network, but we won't for now.**"
      ],
      "metadata": {
        "id": "1Tve8kk1funH"
      }
    },
    {
      "cell_type": "code",
      "source": [
        "# reading train dataset\n",
        "# we will not use all the dataset but just a sample of each train dataset: \n",
        "import gc \n",
        "SAMPLE=0.2\n",
        "import pandas as pd\n",
        "# import tqdm\n",
        "path_to_data = os.path.dirname(files_name[0])\n",
        "print(path_to_data)\n",
        "\n",
        "\n",
        "\n",
        "dtypes_df = pd.read_csv('//content/drive/MyDrive/Colab/HEC_MAJEUR/AI_ADVANCED/TPS_Challenge/tabular-playground-series-oct-2022/train_dtypes.csv')\n",
        "dtypes = {k: v for (k, v) in zip(dtypes_df.column, dtypes_df.dtype)}\n",
        "\n",
        "\n",
        "\n",
        "cols = list(dtypes.keys())\n",
        "train_df = pd.DataFrame({}, columns=cols)\n",
        "for i in range(10):\n",
        "    print(i)\n",
        "    df_tmp = pd.read_csv(f'{path_to_data}/train_{i}.csv', dtype=dtypes)\n",
        "    if SAMPLE < 1:\n",
        "        df_tmp = df_tmp.sample(frac=SAMPLE, random_state=42)\n",
        "\n",
        "    train_df = pd.concat([train_df,df_tmp])\n",
        "\n",
        "    del df_tmp\n",
        "    gc.collect()\n",
        "\n",
        "\n",
        "  # train +   = pd.read_csv(i, dtype=dtypes)"
      ],
      "metadata": {
        "id": "8wnz_1f9TsQY"
      },
      "execution_count": null,
      "outputs": []
    },
    {
      "cell_type": "code",
      "source": [
        "train_df = reduce_mem_usage(train_df)"
      ],
      "metadata": {
        "id": "4nzHdhZHjkdi"
      },
      "execution_count": null,
      "outputs": []
    },
    {
      "cell_type": "code",
      "source": [
        "train_df"
      ],
      "metadata": {
        "id": "N9ODXcliiOFm"
      },
      "execution_count": null,
      "outputs": []
    },
    {
      "cell_type": "markdown",
      "source": [
        "# Data exploration"
      ],
      "metadata": {
        "id": "c2tLC-rJZvTs"
      }
    },
    {
      "cell_type": "markdown",
      "source": [],
      "metadata": {
        "id": "9QS8kpeOgLzF"
      }
    },
    {
      "cell_type": "code",
      "source": [
        "#Reduce memory utilisation\n",
        "\n"
      ],
      "metadata": {
        "id": "h5gy-ORNgLIk"
      },
      "execution_count": null,
      "outputs": []
    },
    {
      "cell_type": "code",
      "source": [
        "# reading test dataset\n",
        "dtypes_df = pd.read_csv('//content/drive/MyDrive/Colab/HEC_MAJEUR/AI_ADVANCED/TPS_Challenge/tabular-playground-series-oct-2022/test_dtypes.csv')\n",
        "dtypes = {k: v for (k, v) in zip(dtypes_df.column, dtypes_df.dtype)}\n",
        "test = pd.read_csv('//content/drive/MyDrive/Colab/HEC_MAJEUR/AI_ADVANCED/TPS_Challenge/tabular-playground-series-oct-2022/test.csv', dtype=dtypes)"
      ],
      "metadata": {
        "id": "01co-N_fdJka"
      },
      "execution_count": null,
      "outputs": []
    },
    {
      "cell_type": "code",
      "source": [
        "test.head()"
      ],
      "metadata": {
        "id": "GqqmCGC3d6uJ"
      },
      "execution_count": null,
      "outputs": []
    },
    {
      "cell_type": "code",
      "source": [
        "print('Train data shape:', train_df.shape)\n",
        "print('Test data shape:', test.shape)"
      ],
      "metadata": {
        "id": "Mc1hyIu0mjtA"
      },
      "execution_count": null,
      "outputs": []
    },
    {
      "cell_type": "code",
      "source": [
        "missing_values_train = train_df.isna().sum().sum()\n",
        "print('Missing values in train data: {0}'.format(missing_values_train[missing_values_train > 0]))\n",
        "\n",
        "missing_values_test = test.isna().sum().sum()\n",
        "print('Missing values in test data: {0}'.format(missing_values_test[missing_values_test > 0]))"
      ],
      "metadata": {
        "id": "0IOpA22mmoq0"
      },
      "execution_count": null,
      "outputs": []
    },
    {
      "cell_type": "code",
      "source": [
        "# handle missing values for now : \n",
        "train0_df = train_df.dropna()\n",
        "test = test.fillna(value=test.mean())"
      ],
      "metadata": {
        "id": "-HSK7an0m2-s"
      },
      "execution_count": null,
      "outputs": []
    },
    {
      "cell_type": "code",
      "source": [
        "missing_values_train = train0_df.isna().sum().sum()\n",
        "print('Missing values in train data: {0}'.format(missing_values_train[missing_values_train > 0]))\n",
        "\n",
        "missing_values_test = test.isna().sum().sum()\n",
        "print('Missing values in test data: {0}'.format(missing_values_test[missing_values_test > 0]))"
      ],
      "metadata": {
        "id": "RQU5nBXrnKR7"
      },
      "execution_count": null,
      "outputs": []
    },
    {
      "cell_type": "code",
      "source": [
        "input_cols = [\n",
        "    'ball_pos_x', 'ball_pos_y', 'ball_pos_z', 'ball_vel_x', 'ball_vel_y', 'ball_vel_z', \n",
        "    'p0_pos_x', 'p0_pos_y', 'p0_pos_z', 'p0_vel_x', 'p0_vel_y', 'p0_vel_z', \n",
        "    'p1_pos_x', 'p1_pos_y', 'p1_pos_z', 'p1_vel_x', 'p1_vel_y', 'p1_vel_z',\n",
        "    'p2_pos_x', 'p2_pos_y', 'p2_pos_z', 'p2_vel_x', 'p2_vel_y', 'p2_vel_z',\n",
        "    'p3_pos_x', 'p3_pos_y', 'p3_pos_z', 'p3_vel_x', 'p3_vel_y', 'p3_vel_z',\n",
        "    'p4_pos_x', 'p4_pos_y', 'p4_pos_z', 'p4_vel_x', 'p4_vel_y', 'p4_vel_z',\n",
        "    'p5_pos_x', 'p5_pos_y', 'p5_pos_z', 'p5_vel_x', 'p5_vel_y', 'p5_vel_z',\n",
        "    'p0_boost', 'p1_boost',  'p2_boost', 'p3_boost', 'p4_boost', 'p5_boost',\n",
        "    'boost0_timer', 'boost1_timer', 'boost2_timer', 'boost3_timer', 'boost4_timer', 'boost5_timer'\n",
        "]"
      ],
      "metadata": {
        "id": "AU0rNwytTUhd"
      },
      "execution_count": null,
      "outputs": []
    },
    {
      "cell_type": "code",
      "source": [
        "output_cols = ['team_A_scoring_within_10sec', 'team_B_scoring_within_10sec']"
      ],
      "metadata": {
        "id": "avocLGw7TX82"
      },
      "execution_count": null,
      "outputs": []
    },
    {
      "cell_type": "code",
      "source": [
        "def int_to_grid_coord(k, n):\n",
        "    return (k // n) + 1, (k % n) + 1"
      ],
      "metadata": {
        "id": "abKxA-ysTZ5V"
      },
      "execution_count": null,
      "outputs": []
    },
    {
      "cell_type": "markdown",
      "source": [
        "Exploration is not possible on all data because of ram issues so we will get random samples of these data *"
      ],
      "metadata": {
        "id": "jtn_LWdHabFW"
      }
    },
    {
      "cell_type": "code",
      "source": [
        "SAMPLE_EXPLO=0.0001\n",
        "explo_df = train_df.sample(frac=SAMPLE_EXPLO)"
      ],
      "metadata": {
        "id": "XeamYUDIaf6X"
      },
      "execution_count": null,
      "outputs": []
    },
    {
      "cell_type": "code",
      "source": [
        "explo_df.size"
      ],
      "metadata": {
        "id": "OfpY_sh4jAeV"
      },
      "execution_count": null,
      "outputs": []
    },
    {
      "cell_type": "code",
      "source": [
        "## visualisation\n",
        "\n",
        "import plotly.express as px\n",
        "import plotly.graph_objects as go\n",
        "from plotly import subplots\n",
        "\n",
        "def plot_distributions(df, row_count, col_count, title, height):\n",
        "    features = df.columns\n",
        "    fig = subplots.make_subplots(\n",
        "        rows=row_count, cols=col_count,\n",
        "        subplot_titles=features\n",
        "    )\n",
        "\n",
        "    for k, col in enumerate(features):\n",
        "        i, j = int_to_grid_coord(k, col_count)\n",
        "\n",
        "        fig.add_trace(\n",
        "            go.Histogram(\n",
        "                x=df[col].astype('float32'),\n",
        "                name=col\n",
        "            ),\n",
        "            row=i, col=j\n",
        "        )\n",
        "\n",
        "    fig.update_layout(\n",
        "        title=title,\n",
        "        height=row_count * height,\n",
        "        showlegend=False\n",
        "    )\n",
        "\n",
        "    return fig\n",
        "\n",
        "plot_distributions(explo_df[input_cols],9,6,\"first visualisation of inputs\",300)"
      ],
      "metadata": {
        "id": "Qydl-vmyTc5G"
      },
      "execution_count": null,
      "outputs": []
    },
    {
      "cell_type": "markdown",
      "source": [
        "# Feature Reduction"
      ],
      "metadata": {
        "id": "Rz7aGOaGaXOl"
      }
    },
    {
      "cell_type": "code",
      "source": [
        "train = train_df.copy(deep=True)  # for easier exploration & for having a dataset checkpoint\n",
        "\n",
        "train.keys()"
      ],
      "metadata": {
        "id": "e1RyXQC53mZK"
      },
      "execution_count": null,
      "outputs": []
    },
    {
      "cell_type": "markdown",
      "source": [
        "### **Let's define some new features :**\n",
        "\n",
        "- distance from the ball \n",
        "- absolute speed of the ball \n",
        "- minimum distance from a player to the goal \n",
        "- elevated before a goal or not ? \n",
        "- velocity magnitude of the players"
      ],
      "metadata": {
        "id": "TfqwMsQx51cK"
      }
    },
    {
      "cell_type": "markdown",
      "source": [
        "#### Absolute speed of the ball"
      ],
      "metadata": {
        "id": "U5sc3zyXkXgz"
      }
    },
    {
      "cell_type": "code",
      "source": [
        "# absolute speed of the ball :\n",
        "\n",
        "array1 = train['ball_vel_x'].values*train['ball_vel_x'].values + train['ball_vel_y'].values*train['ball_vel_y'].values + train['ball_vel_z'].values*train['ball_vel_z'].values\n",
        "array2 = test['ball_vel_x'].values*test['ball_vel_x'].values + test['ball_vel_y'].values*test['ball_vel_y'].values + test['ball_vel_z'].values*test['ball_vel_z'].values\n",
        "\n",
        "train[\"abs_ball_speed\"]=[np.sqrt(i) for i in array1]\n",
        "test[\"abs_ball_speed\"] = [np.sqrt(i) for i in array2]\n",
        "train.keys()\n"
      ],
      "metadata": {
        "id": "1kw7jsCg50ri"
      },
      "execution_count": null,
      "outputs": []
    },
    {
      "cell_type": "code",
      "source": [
        "\n",
        "#checking data for a given player\n",
        "scorer_key = []\n",
        "for i in train.keys():\n",
        "  if \"p3\" in i:\n",
        "    scorer_key.append(i)\n",
        "print(scorer_key)\n",
        "\n",
        "train[scorer_key]\n"
      ],
      "metadata": {
        "id": "Q62b_4OzAogN"
      },
      "execution_count": null,
      "outputs": []
    },
    {
      "cell_type": "code",
      "source": [
        "# grouping by player and ball cat : \n",
        "\n",
        "vel_groups = {\n",
        "    f\"{el}_vel\": [f'{el}_vel_x', f'{el}_vel_y', f'{el}_vel_z']\n",
        "    for el in ['ball'] + [f'p{i}' for i in range(6)]\n",
        "}\n",
        "pos_groups = {\n",
        "    f\"{el}_pos\": [f'{el}_pos_x', f'{el}_pos_y', f'{el}_pos_z']\n",
        "    for el in ['ball'] + [f'p{i}' for i in range(6)]\n",
        "}\n",
        "pos_groups\n"
      ],
      "metadata": {
        "id": "HXvudhftESbS"
      },
      "execution_count": null,
      "outputs": []
    },
    {
      "cell_type": "markdown",
      "source": [
        "#### Distance from the ball"
      ],
      "metadata": {
        "id": "kE3Zv70bkT8m"
      }
    },
    {
      "cell_type": "code",
      "source": [],
      "metadata": {
        "id": "GXnUJ-gBkTv8"
      },
      "execution_count": null,
      "outputs": []
    },
    {
      "cell_type": "code",
      "source": [
        "#distance from the ball: \n",
        "def euclidian_dist(x):\n",
        "    return np.linalg.norm(x, axis=1)\n",
        "\n",
        "# euclidian_dist(train[pos_groups[\"p0_pos\"]].values - train[pos_groups[\"ball_pos\"]].values)\n",
        "# # train['p0_pos_x']\n",
        "# # print(euclidian_dist(train['ball_pos_x'].values-train['p0_pos_x'].values))\n",
        "\n",
        "for col, vec in pos_groups.items():\n",
        "  print(vec)\n",
        "  train[col + '_dist_ball'] = euclidian_dist(train[vec].values - train[pos_groups[\"ball_pos\"]].values)\n",
        "  test[col + '_dist_ball'] = euclidian_dist(test[vec].values - test[pos_groups[\"ball_pos\"]].values)\n",
        "  \n",
        "\n",
        "\n",
        "\n"
      ],
      "metadata": {
        "id": "Nwyc7d-EFGlQ"
      },
      "execution_count": null,
      "outputs": []
    },
    {
      "cell_type": "code",
      "source": [
        "game_1 = train[train[\"game_num\"]==1]\n",
        "\n",
        "\n",
        "# check at what distance from the ball was the player that scores before shooting. \n",
        "min((x) for x in game_1['p3_pos_dist_ball'])"
      ],
      "metadata": {
        "id": "HfbIAWAUJVru"
      },
      "execution_count": null,
      "outputs": []
    },
    {
      "cell_type": "markdown",
      "source": [
        "#### Velocity Magnitude"
      ],
      "metadata": {
        "id": "bzcWrI9QkJRR"
      }
    },
    {
      "cell_type": "code",
      "source": [
        "\n",
        "# velocity magnitude\n",
        "for col, vec in vel_groups.items():\n",
        "    train[col] = euclidian_dist(train[vec])\n",
        "    test[col] = euclidian_dist(test[vec])\n"
      ],
      "metadata": {
        "id": "WJmtfByBA4ML"
      },
      "execution_count": null,
      "outputs": []
    },
    {
      "cell_type": "markdown",
      "source": [
        "#### Minimum distance from the goal "
      ],
      "metadata": {
        "id": "6ereQp0VkEkM"
      }
    },
    {
      "cell_type": "code",
      "source": [
        "# was there a goal in cage ? \n",
        "# minimum distance from the goal\n",
        "# we are going to assume that there was no goal if the closest palyer from the ball is the one who ends up scoring. \n",
        "#Is there a 'goal keeper', i.e. a player defending in goal, or is it an open goal? The right feature for this would be the minimum distance of a player to the goal.\n",
        "\n",
        "#lets compute minimum distance from the ball at time \n",
        "\n",
        "\n",
        "# pas encore fait\n",
        "\n"
      ],
      "metadata": {
        "id": "SU58uaJuNkTF"
      },
      "execution_count": null,
      "outputs": []
    },
    {
      "cell_type": "code",
      "source": [
        "# who is the closest to the ball ? \n"
      ],
      "metadata": {
        "id": "n-jehr3COxiF"
      },
      "execution_count": null,
      "outputs": []
    },
    {
      "cell_type": "markdown",
      "source": [
        "#### Recule ou avance au moment du but"
      ],
      "metadata": {
        "id": "hp3CjVRQG8p4"
      }
    },
    {
      "cell_type": "code",
      "source": [],
      "metadata": {
        "id": "K1rSxMS-HANd"
      },
      "execution_count": null,
      "outputs": []
    },
    {
      "cell_type": "markdown",
      "source": [
        "\n",
        "#### Elevation of the scoring player"
      ],
      "metadata": {
        "id": "qLeU2w1qkeZl"
      }
    },
    {
      "cell_type": "code",
      "source": [
        "# to do \n"
      ],
      "metadata": {
        "id": "QbE3gacBkhoc"
      },
      "execution_count": null,
      "outputs": []
    },
    {
      "cell_type": "markdown",
      "source": [
        "#### Angle et Formation des équipes ? \n"
      ],
      "metadata": {
        "id": "d0a1Zf77HbfJ"
      }
    },
    {
      "cell_type": "code",
      "source": [
        "# Distance entre les joueurs d'une même équipe\n",
        "\n",
        "\n",
        "# Condition sur les buts d'une équipe \n",
        "\n",
        "# angle et (formation/position des players/ x,y,z de chaque joueur) au moment du but ?\n",
        "\n",
        "\n",
        "# maximum position players pour définir le terrain\n",
        "\n"
      ],
      "metadata": {
        "id": "9KtxGIAcHhKW"
      },
      "execution_count": null,
      "outputs": []
    },
    {
      "cell_type": "markdown",
      "source": [
        "# Feature Reduction "
      ],
      "metadata": {
        "id": "rW7yXE3hmFRn"
      }
    },
    {
      "cell_type": "markdown",
      "source": [
        "We might want to use algorithms for feature reductions ? "
      ],
      "metadata": {
        "id": "fKt2F4PamIQj"
      }
    },
    {
      "cell_type": "code",
      "source": [
        "# # Standarise the Data\n",
        "# X_org = image_matrix.copy()\n",
        "# sc = StandardScaler()\n",
        "# X = sc.fit_transform(X_org)\n",
        "# # this is the size of our encoded representations\n",
        "# encoding_dim = reduced_pixel \n",
        "# # this is our input placeholder\n",
        "# input_img = Input(shape=(img.width,))\n",
        "# # \"encoded\" is the encoded representation of the input\n",
        "# encoded = Dense(encoding_dim, activation='linear')(input_img)\n",
        "# # \"decoded\" is the lossy reconstruction of the input\n",
        "# decoded = Dense(img.width, activation=None)(encoded)\n",
        "# # this model maps an input to its reconstruction\n",
        "# autoencoder = Model(input_img, decoded)\n",
        "# #Encoder\n",
        "# encoder = Model(input_img, encoded)\n",
        "# # create a placeholder for an encoded (32-dimensional) input\n",
        "# encoded_input = Input(shape=(encoding_dim,))\n",
        "# # retrieve the last layer of the autoencoder model\n",
        "# decoder_layer = autoencoder.layers[-1]\n",
        "# # create the decoder model\n",
        "# decoder = Model(encoded_input, decoder_layer(encoded_input))\n",
        "# autoencoder.compile(optimizer='adadelta', loss='mean_squared_error')\n",
        "# autoencoder.fit(X, X,\n",
        "#                 epochs=500,\n",
        "#                 batch_size=16,\n",
        "#                 shuffle=True)\n",
        "# encoded_imgs = encoder.predict(X)\n",
        "# decoded_imgs = decoder.predict(encoded_imgs)"
      ],
      "metadata": {
        "id": "by5GAS_MmH0G"
      },
      "execution_count": null,
      "outputs": []
    },
    {
      "cell_type": "markdown",
      "source": [
        "#  data cleaning"
      ],
      "metadata": {
        "id": "KkQkISKX3h4W"
      }
    },
    {
      "cell_type": "code",
      "source": [
        "train.keys()\n",
        "test.keys()"
      ],
      "metadata": {
        "id": "6qejV5O8k9Nh"
      },
      "execution_count": null,
      "outputs": []
    },
    {
      "cell_type": "code",
      "source": [
        "#Visualisation of new fe@atures : \n",
        "## visualisation\n",
        "new_cols = ['abs_ball_speed', 'ball_pos_dist_ball',\n",
        "       'p0_pos_dist_ball', 'p1_pos_dist_ball', 'p2_pos_dist_ball',\n",
        "       'p3_pos_dist_ball', 'p4_pos_dist_ball', 'p5_pos_dist_ball', 'ball_vel',\n",
        "       'p0_vel', 'p1_vel', 'p2_vel', 'p3_vel', 'p4_vel', 'p5_vel']\n",
        "\n",
        "\n",
        "import plotly.express as px\n",
        "import plotly.graph_objects as go\n",
        "from plotly import subplots\n",
        "\n",
        "def plot_distributions(df, row_count, col_count, title, height,frac = 0.00005):\n",
        "    df = df.sample(frac = frac)\n",
        "    features = df.columns\n",
        "    fig = subplots.make_subplots(\n",
        "        rows=row_count, cols=col_count,\n",
        "        subplot_titles=features\n",
        "    )\n",
        "\n",
        "    for k, col in enumerate(features):\n",
        "        i, j = int_to_grid_coord(k, col_count)\n",
        "\n",
        "        fig.add_trace(\n",
        "            go.Histogram(\n",
        "                x=df[col].astype('float32'),\n",
        "                name=col\n",
        "            ),\n",
        "            row=i, col=j\n",
        "        )\n",
        "\n",
        "    fig.update_layout(\n",
        "        title=title,\n",
        "        height=row_count * height,\n",
        "        showlegend=False\n",
        "    )\n",
        "\n",
        "    return fig\n",
        "\n",
        "plot_distributions(train[new_cols],5,3,\"first visualisation of inputs\",300)"
      ],
      "metadata": {
        "id": "5ya4mn6wko1w"
      },
      "execution_count": null,
      "outputs": []
    },
    {
      "cell_type": "markdown",
      "source": [
        "We drop 'game_num', 'event_id', 'event_time\" since they are not useful. \n",
        "we drop   'player_scoring_next', 'team_scoring_next''team_A_scoring_within_10sec',\n",
        "                     'team_B_scoring_within_10sec' since they are data leakage/label\n",
        "                     \n",
        "FInally we also drop these features that we had compute since they are either not relevant or present twice in dataset \"abs_ball_speed\",'ball_pos_dist_ball\n",
        "\n",
        "\n",
        "                   "
      ],
      "metadata": {
        "id": "EZ6-sNAAQnEn"
      }
    },
    {
      "cell_type": "code",
      "source": [
        "def preprocess_data(df):\n",
        "  df = df.dropna().copy()\n",
        "\n",
        "  return ({ 'A': df['team_A_scoring_within_10sec'], 'B': df['team_B_scoring_within_10sec'] },\n",
        "            df.drop(['game_num', 'event_id', 'event_time',\n",
        "                     'player_scoring_next', 'team_scoring_next',\n",
        "                     'team_A_scoring_within_10sec',\n",
        "                     'team_B_scoring_within_10sec',\"abs_ball_speed\",'ball_pos_dist_ball',], axis=1))\n"
      ],
      "metadata": {
        "id": "qQqlDx-BmHad"
      },
      "execution_count": null,
      "outputs": []
    },
    {
      "cell_type": "code",
      "source": [
        "test=test.drop([\"id\"],axis=1)\n",
        "test = test.drop([\"ball_pos_dist_ball\",\"abs_ball_speed\"],axis=1)"
      ],
      "metadata": {
        "id": "Dxt4X78GhKmE"
      },
      "execution_count": null,
      "outputs": []
    },
    {
      "cell_type": "code",
      "source": [
        "test.keys()"
      ],
      "metadata": {
        "id": "HkBsORRASkNR"
      },
      "execution_count": null,
      "outputs": []
    },
    {
      "cell_type": "code",
      "source": [
        "# drop some colums : \n",
        "train_small = train.sample(frac=0.1) # for test purposes\n",
        "y_train,X_train = preprocess_data(train)\n",
        "y_train_small, X_train_small = preprocess_data(train_small)\n"
      ],
      "metadata": {
        "id": "2xw5uHK8v9Wq"
      },
      "execution_count": null,
      "outputs": []
    },
    {
      "cell_type": "markdown",
      "source": [
        "##### train and test data"
      ],
      "metadata": {
        "id": "CZ9QwfTNQPfo"
      }
    },
    {
      "cell_type": "code",
      "source": [
        "ic(y_train[\"A\"].shape)\n",
        "ic(y_train['B'].shape)\n",
        "ic(X_train.shape)\n",
        "\n",
        "\n",
        "ic(y_train_small[\"A\"].shape)\n",
        "ic(y_train_small['B'].shape)\n",
        "ic(X_train_small.shape)\n",
        "\n",
        "\n",
        "ic(test.shape)"
      ],
      "metadata": {
        "id": "1LilPPzlucNp"
      },
      "execution_count": null,
      "outputs": []
    },
    {
      "cell_type": "markdown",
      "source": [
        "# Using XGBoost \n"
      ],
      "metadata": {
        "id": "mq0GbyGAGB8M"
      }
    },
    {
      "cell_type": "markdown",
      "source": [
        "Since these are tabular data we think to XGboosting\n",
        "The state of the art for problems with tabular data is currently ensembles of decision trees such as XGBDT or GBDT. \n",
        "At the moment, there are several established GBDT\n",
        "libraries, such as XGBoost (Chen and Guestrin, 2016), LightGBM (Ke et al., 2017), CatBoost\n",
        "(Prokhorenkova et al., 2018), which are widely used by both ML researchers and practitioners. While\n",
        "these implementations vary in detail, on most of the tasks, their performances do not differ much.\n",
        "We will first observe results with XGBoost. \n",
        "\n",
        "\n"
      ],
      "metadata": {
        "id": "1Iia1LLwmYX4"
      }
    },
    {
      "cell_type": "code",
      "source": [
        "\n",
        "import xgboost as xgb\n",
        "from sklearn.model_selection import cross_validate  # k-fold Cross Validation\n",
        "from sklearn.preprocessing import LabelEncoder "
      ],
      "metadata": {
        "id": "ffg6R5uaGDpq"
      },
      "execution_count": 85,
      "outputs": []
    },
    {
      "cell_type": "markdown",
      "source": [
        "*We'll be predicting the probability of team A scoring and team B scoring with 2 separate models.*\n",
        "XGBoost n'est pas le meilleur avec du suréchantillonage. Il faudra surement réduire le nombre de donnnées pour éviter les éccueils. \n",
        "\n"
      ],
      "metadata": {
        "id": "ZHpieboRGoHC"
      }
    },
    {
      "cell_type": "markdown",
      "source": [
        "#### model A \n"
      ],
      "metadata": {
        "id": "sqKteC-RGgYu"
      }
    },
    {
      "cell_type": "code",
      "source": [
        "# xgb.XGBClassifier??"
      ],
      "metadata": {
        "id": "S6LGuMFkVx_o"
      },
      "execution_count": 86,
      "outputs": []
    },
    {
      "cell_type": "code",
      "source": [
        "# training and cross validation\n",
        "\n",
        "N_ESTIMATORS = 200\n",
        "MAX_DEPTH = 7\n",
        "LEARNING_RATE = 0.01\n",
        "N_SPLITS = 5\n",
        "my_seed = 42\n",
        "\n",
        "param={}\n",
        "param['booster'] = 'dart'\n",
        "param['max_depth']=MAX_DEPTH\n",
        "param[\"learning_rate\"]=LEARNING_RATE\n",
        "param[\"n_estimators\"]=N_ESTIMATORS\n",
        "param['objective']=\"binary:logistic\"\n",
        "param[\"tree_method\"]='gpu_hist'\n",
        "param[\"subsample\"]=0.1\n",
        "param[\"verbosity\"]=0\n",
        "\n",
        "\n",
        "\n",
        "\n",
        "\n",
        "scoring = 'neg_log_loss'\n",
        "FOLDS = 5"
      ],
      "metadata": {
        "id": "BJijEAZ2GjKS"
      },
      "execution_count": 87,
      "outputs": []
    },
    {
      "cell_type": "code",
      "source": [
        "%matplotlib inline"
      ],
      "metadata": {
        "id": "7f3JbVTLghti"
      },
      "execution_count": 88,
      "outputs": []
    },
    {
      "cell_type": "code",
      "source": [
        "\n"
      ],
      "metadata": {
        "id": "SETKl14RoZ3k"
      },
      "execution_count": 88,
      "outputs": []
    },
    {
      "cell_type": "code",
      "source": [
        "import pprint\n",
        "from sklearn.model_selection import KFold\n",
        "from sklearn.metrics import roc_auc_score\n",
        "from sklearn import metrics\n",
        "import matplotlib.pyplot as plt \n",
        "\n",
        "scores = {'A': [], 'B': [] }\n",
        "test_predictions = {'A': [], 'B': [] }\n",
        "\n",
        "\n",
        "\n",
        "\n",
        "def run_model(X,y,test,key): \n",
        "  scores = []\n",
        "  test_predictions = []\n",
        "  cv = KFold(n_splits=N_SPLITS, random_state=my_seed, shuffle=True)\n",
        "\n",
        "  for fold, (train_idx, test_idx) in enumerate(cv.split(X, y)):\n",
        "    train_X, val_X = X.iloc[train_idx], X.iloc[test_idx]\n",
        "    train_y, val_y = y.iloc[train_idx], y.iloc[test_idx]\n",
        "    print(f\"fold: {fold} \")\n",
        "    model = xgb.XGBClassifier()\n",
        "    model.set_params(**param)\n",
        "    print(model.n_estimators)\n",
        "\n",
        "    model.fit(train_X,train_y)\n",
        "\n",
        "    predictions = model.predict_proba(val_X)[:, 1]\n",
        "    # predictions = model.predict_proba(val_X)\n",
        "    print(f\"predictions:{predictions}\")\n",
        "\n",
        "    #compute roc auc score\n",
        "    ic(val_y[:2])\n",
        "    ic(predictions[:2])\n",
        "    score = roc_auc_score(val_y, predictions)\n",
        "    scores.append(score)\n",
        "    print(f\"Fold {fold + 1} \\t\\t AUC: {score}\")\n",
        "\n",
        "    #display roc auc curve\n",
        "    fpr, tpr, thresholds = metrics.roc_curve(val_y, predictions)\n",
        "    roc_auc = metrics.auc(fpr, tpr)\n",
        "    display = metrics.RocCurveDisplay(fpr=fpr, tpr=tpr, roc_auc=roc_auc,\n",
        "                                   estimator_name='example estimator')\n",
        "    display.plot()\n",
        "    plt.show()\n",
        "\n",
        "    \n",
        "    #test predictions with this model \n",
        "    test_predictions.append(model.predict_proba(test)[:,1])\n",
        "\n",
        "    del model \n",
        "    gc.collect()\n",
        "    \n",
        "  print(f\"Overall AUC :\", np.mean(scores))\n",
        "  return (np.mean(test_predictions, axis=0), np.mean(scores))\n",
        "\n",
        "## use a sample of data again : \n",
        "\n",
        "for key in test_predictions:\n",
        "  print(f\"Team: {key} \")\n",
        "  prediction,score = run_model(X_train,y_train[key],test,key)\n",
        "  test_predictions[key].append(prediction)\n",
        "  scores[key].append(score)\n",
        "\n",
        "print('Overall AUC for Team A: ', np.mean(scores['A']))\n",
        "print('Overall AUC for Team B: ', np.mean(scores['B']))\n",
        "  "
      ],
      "metadata": {
        "colab": {
          "base_uri": "https://localhost:8080/",
          "height": 1000
        },
        "id": "Kag2c4TlR1jm",
        "outputId": "912bb91f-77ce-4aa2-9dee-6860da0ef93b"
      },
      "execution_count": null,
      "outputs": [
        {
          "output_type": "stream",
          "name": "stdout",
          "text": [
            "Team: A \n",
            "fold: 0 \n",
            "200\n"
          ]
        },
        {
          "output_type": "stream",
          "name": "stderr",
          "text": [
            "ic| val_y[:2]: 176360    0\n",
            "               860935    0\n",
            "               Name: team_A_scoring_within_10sec, dtype: category\n",
            "               Categories (2, int64): [0, 1]\n",
            "ic| predictions[:2]: array([0.05828205, 0.01381961], dtype=float32)\n"
          ]
        },
        {
          "output_type": "stream",
          "name": "stdout",
          "text": [
            "predictions:[0.05828205 0.01381961 0.01970515 ... 0.14351228 0.04910355 0.02878102]\n",
            "Fold 1 \t\t AUC: 0.7445671149062162\n"
          ]
        },
        {
          "output_type": "display_data",
          "data": {
            "text/plain": [
              "<Figure size 432x288 with 1 Axes>"
            ],
            "image/png": "[encoded data removed]"
          },
          "metadata": {
            "needs_background": "light"
          }
        },
        {
          "output_type": "stream",
          "name": "stdout",
          "text": [
            "fold: 1 \n",
            "200\n"
          ]
        },
        {
          "output_type": "stream",
          "name": "stderr",
          "text": [
            "ic| val_y[:2]: 440953     0\n",
            "               1948527    0\n",
            "               Name: team_A_scoring_within_10sec, dtype: category\n",
            "               Categories (2, int64): [0, 1]\n",
            "ic| predictions[:2]: array([0.07045121, 0.05596763], dtype=float32)\n"
          ]
        },
        {
          "output_type": "stream",
          "name": "stdout",
          "text": [
            "predictions:[0.07045121 0.05596763 0.0619713  ... 0.0547861  0.04290111 0.02364746]\n",
            "Fold 2 \t\t AUC: 0.7453011791339534\n"
          ]
        },
        {
          "output_type": "display_data",
          "data": {
            "text/plain": [
              "<Figure size 432x288 with 1 Axes>"
            ],
            "image/png": "[encoded data removed]"
          },
          "metadata": {
            "needs_background": "light"
          }
        },
        {
          "output_type": "stream",
          "name": "stdout",
          "text": [
            "fold: 2 \n",
            "200\n"
          ]
        },
        {
          "output_type": "stream",
          "name": "stderr",
          "text": [
            "ic| val_y[:2]: 282629     0\n",
            "               1765627    0\n",
            "               Name: team_A_scoring_within_10sec, dtype: category\n",
            "               Categories (2, int64): [0, 1]\n",
            "ic| predictions[:2]: array([0.00739365, 0.0747409 ], dtype=float32)\n"
          ]
        },
        {
          "output_type": "stream",
          "name": "stdout",
          "text": [
            "predictions:[0.00739365 0.0747409  0.07022566 ... 0.06103846 0.02980888 0.09483378]\n",
            "Fold 3 \t\t AUC: 0.7441422896782016\n"
          ]
        },
        {
          "output_type": "display_data",
          "data": {
            "text/plain": [
              "<Figure size 432x288 with 1 Axes>"
            ],
            "image/png": "[encoded data removed]"
          },
          "metadata": {
            "needs_background": "light"
          }
        },
        {
          "output_type": "stream",
          "name": "stdout",
          "text": [
            "fold: 3 \n",
            "200\n"
          ]
        },
        {
          "output_type": "stream",
          "name": "stderr",
          "text": [
            "ic| val_y[:2]: 1111514    0\n",
            "               770636     0\n",
            "               Name: team_A_scoring_within_10sec, dtype: category\n",
            "               Categories (2, int64): [0, 1]\n",
            "ic| predictions[:2]: array([0.06899788, 0.05891265], dtype=float32)\n"
          ]
        },
        {
          "output_type": "stream",
          "name": "stdout",
          "text": [
            "predictions:[0.06899788 0.05891265 0.1239735  ... 0.03669287 0.02310786 0.01991571]\n",
            "Fold 4 \t\t AUC: 0.745627802677733\n"
          ]
        },
        {
          "output_type": "display_data",
          "data": {
            "text/plain": [
              "<Figure size 432x288 with 1 Axes>"
            ],
            "image/png": "[encoded data removed]"
          },
          "metadata": {
            "needs_background": "light"
          }
        },
        {
          "output_type": "stream",
          "name": "stdout",
          "text": [
            "fold: 4 \n",
            "200\n"
          ]
        },
        {
          "output_type": "stream",
          "name": "stderr",
          "text": [
            "ic| val_y[:2]: 1274297    1\n",
            "               1177881    0\n",
            "               Name: team_A_scoring_within_10sec, dtype: category\n",
            "               Categories (2, int64): [0, 1]\n",
            "ic| predictions[:2]: array([0.05180936, 0.07782977], dtype=float32)\n"
          ]
        },
        {
          "output_type": "stream",
          "name": "stdout",
          "text": [
            "predictions:[0.05180936 0.07782977 0.1484306  ... 0.05447992 0.05822733 0.08842641]\n",
            "Fold 5 \t\t AUC: 0.7448858231669033\n"
          ]
        },
        {
          "output_type": "display_data",
          "data": {
            "text/plain": [
              "<Figure size 432x288 with 1 Axes>"
            ],
            "image/png": "[encoded data removed]"
          },
          "metadata": {
            "needs_background": "light"
          }
        },
        {
          "output_type": "stream",
          "name": "stdout",
          "text": [
            "Overall AUC : 0.7449048419126015\n",
            "Team: B \n",
            "fold: 0 \n",
            "200\n"
          ]
        },
        {
          "output_type": "stream",
          "name": "stderr",
          "text": [
            "ic| val_y[:2]: 176360    0\n",
            "               860935    1\n",
            "               Name: team_B_scoring_within_10sec, dtype: category\n",
            "               Categories (2, int64): [0, 1]\n",
            "ic| predictions[:2]: array([0.0848626 , 0.16901374], dtype=float32)\n"
          ]
        },
        {
          "output_type": "stream",
          "name": "stdout",
          "text": [
            "predictions:[0.0848626  0.16901374 0.1267019  ... 0.06508236 0.03699285 0.0422041 ]\n",
            "Fold 1 \t\t AUC: 0.741002073570388\n"
          ]
        },
        {
          "output_type": "display_data",
          "data": {
            "text/plain": [
              "<Figure size 432x288 with 1 Axes>"
            ],
            "image/png": "[encoded data removed]"
          },
          "metadata": {
            "needs_background": "light"
          }
        },
        {
          "output_type": "stream",
          "name": "stdout",
          "text": [
            "fold: 1 \n",
            "200\n"
          ]
        },
        {
          "output_type": "stream",
          "name": "stderr",
          "text": [
            "ic| val_y[:2]: 440953     0\n",
            "               1948527    0\n",
            "               Name: team_B_scoring_within_10sec, dtype: category\n",
            "               Categories (2, int64): [0, 1]\n",
            "ic| predictions[:2]: array([0.08968842, 0.05635121], dtype=float32)\n"
          ]
        },
        {
          "output_type": "stream",
          "name": "stdout",
          "text": [
            "predictions:[0.08968842 0.05635121 0.03259121 ... 0.02238383 0.04365313 0.03034313]\n",
            "Fold 2 \t\t AUC: 0.7403161556953739\n"
          ]
        },
        {
          "output_type": "display_data",
          "data": {
            "text/plain": [
              "<Figure size 432x288 with 1 Axes>"
            ],
            "image/png": "[encoded data removed]"
          },
          "metadata": {
            "needs_background": "light"
          }
        },
        {
          "output_type": "stream",
          "name": "stdout",
          "text": [
            "fold: 2 \n",
            "200\n"
          ]
        },
        {
          "output_type": "stream",
          "name": "stderr",
          "text": [
            "ic| val_y[:2]: 282629     0\n",
            "               1765627    0\n",
            "               Name: team_B_scoring_within_10sec, dtype: category\n",
            "               Categories (2, int64): [0, 1]\n",
            "ic| predictions[:2]: array([0.34266657, 0.07890449], dtype=float32)\n"
          ]
        },
        {
          "output_type": "stream",
          "name": "stdout",
          "text": [
            "predictions:[0.34266657 0.07890449 0.04504903 ... 0.05324176 0.06410941 0.03573833]\n",
            "Fold 3 \t\t AUC: 0.7405068846512183\n"
          ]
        },
        {
          "output_type": "display_data",
          "data": {
            "text/plain": [
              "<Figure size 432x288 with 1 Axes>"
            ],
            "image/png": "[encoded data removed]"
          },
          "metadata": {
            "needs_background": "light"
          }
        },
        {
          "output_type": "stream",
          "name": "stdout",
          "text": [
            "fold: 3 \n",
            "200\n"
          ]
        }
      ]
    },
    {
      "cell_type": "code",
      "source": [
        "\n",
        "# save file : \n",
        "import csv\n",
        "csv.writer(test_predictions,'submission.csv')\n",
        "csv.writer(scores,'scores.csv')"
      ],
      "metadata": {
        "colab": {
          "base_uri": "https://localhost:8080/",
          "height": 218
        },
        "id": "JgrOrFlnkjZw",
        "outputId": "ca19d4cb-4b89-4090-8814-72798e7ca5a7"
      },
      "execution_count": 1,
      "outputs": [
        {
          "output_type": "error",
          "ename": "NameError",
          "evalue": "ignored",
          "traceback": [
            "\u001b[0;31m---------------------------------------------------------------------------\u001b[0m",
            "\u001b[0;31mNameError\u001b[0m                                 Traceback (most recent call last)",
            "\u001b[0;32m<ipython-input-1-934d5ddd9172>\u001b[0m in \u001b[0;36m<module>\u001b[0;34m\u001b[0m\n\u001b[1;32m      1\u001b[0m \u001b[0;31m# save file :\u001b[0m\u001b[0;34m\u001b[0m\u001b[0;34m\u001b[0m\u001b[0;34m\u001b[0m\u001b[0m\n\u001b[1;32m      2\u001b[0m \u001b[0;32mimport\u001b[0m \u001b[0mcsv\u001b[0m\u001b[0;34m\u001b[0m\u001b[0;34m\u001b[0m\u001b[0m\n\u001b[0;32m----> 3\u001b[0;31m \u001b[0mcsv\u001b[0m\u001b[0;34m.\u001b[0m\u001b[0mwriter\u001b[0m\u001b[0;34m(\u001b[0m\u001b[0mtest_predictions\u001b[0m\u001b[0;34m,\u001b[0m\u001b[0;34m'submission.csv'\u001b[0m\u001b[0;34m)\u001b[0m\u001b[0;34m\u001b[0m\u001b[0;34m\u001b[0m\u001b[0m\n\u001b[0m\u001b[1;32m      4\u001b[0m \u001b[0mcsv\u001b[0m\u001b[0;34m.\u001b[0m\u001b[0mwriter\u001b[0m\u001b[0;34m(\u001b[0m\u001b[0mscores\u001b[0m\u001b[0;34m,\u001b[0m\u001b[0;34m'scores.csv'\u001b[0m\u001b[0;34m)\u001b[0m\u001b[0;34m\u001b[0m\u001b[0;34m\u001b[0m\u001b[0m\n",
            "\u001b[0;31mNameError\u001b[0m: name 'test_predictions' is not defined"
          ]
        }
      ]
    },
    {
      "cell_type": "markdown",
      "source": [
        "# Online Learning ?"
      ],
      "metadata": {
        "id": "Ip4nT9Irmiy8"
      }
    },
    {
      "cell_type": "markdown",
      "source": [
        "# Deep Lerning for tabular data"
      ],
      "metadata": {
        "id": "rNL4KKJzguQf"
      }
    },
    {
      "cell_type": "markdown",
      "source": [
        "**Work taken from this article: https://arxiv.org/pdf/2106.11959.pdf**\n",
        "\n",
        "Due to the tremendous success of deep learning on such data domains as images, audio and texts\n",
        "(Goodfellow et al., 2016), there has been a lot of research interest to extend this success to problems\n",
        "with data stored in tabular format.\n",
        "\n",
        "**Deep learning for tabular data ? **\n",
        "\n",
        "During several recent years, a large number of deep learning models for tabular data have been\n",
        "developed (Arik and Pfister, 2020; Badirli et al., 2020; Hazimeh et al., 2020; Huang et al., 2020a;\n",
        "Klambauer et al., 2017; Popov et al., 2020; Song et al., 2019; Wang et al., 2017). \n",
        "\n",
        "We will focus on three models: \n",
        "- dummy \n",
        "- ResNet\n",
        "- AttentionBased ? \n",
        "\n"
      ],
      "metadata": {
        "id": "vNe1b54pbK4e"
      }
    },
    {
      "cell_type": "markdown",
      "source": [
        "## Dummy"
      ],
      "metadata": {
        "id": "RlIeRXB1cdfr"
      }
    },
    {
      "cell_type": "code",
      "source": [
        "import torch\n",
        "from torch.functional import norm\n",
        "import torch.nn as nn\n",
        "import torch.nn.functional as F\n",
        "from torch.utils.data import DataLoader,random_split,TensorDataset\n",
        "from pathlib import Path\n",
        "from torch import optim\n",
        "import time\n",
        "import pytorch_lightning as pl\n",
        "from pytorch_lightning.loggers import TensorBoardLogger\n",
        "from icecream import ic\n",
        "import optuna\n",
        "from optuna.integration import PyTorchLightningPruningCallback\n",
        "import datetime\n",
        "device = torch.device('cuda' if torch.cuda.is_available() else 'cpu')\n",
        "\n",
        "\n"
      ],
      "metadata": {
        "id": "OmrA8JGpg_y9"
      },
      "execution_count": null,
      "outputs": []
    },
    {
      "cell_type": "code",
      "source": [
        "train_X_tensor=torch.tensor(train_X.values)\n",
        "train_X_tensor.shape\n",
        "train_y_A_tensor=torch.tensor(train_y['A'].values)\n",
        "train_y_B_tensor=torch.tensor(train_y['B'].values)"
      ],
      "metadata": {
        "id": "HT-8GwyGZRi7"
      },
      "execution_count": null,
      "outputs": []
    },
    {
      "cell_type": "code",
      "source": [],
      "metadata": {
        "id": "NVHNATxgcTmR"
      },
      "execution_count": null,
      "outputs": []
    },
    {
      "cell_type": "code",
      "source": [
        "#### build dataset\n",
        "from torch.utils.data import Dataset, DataLoader\n",
        "\n",
        "class RocketDataset(Dataset):\n",
        "  \"\"\"\n",
        "  This is a custom dataset class. It can get more complex than this, but simplified so you can understand what's happening here without\n",
        "  getting bogged down by the preprocessing\n",
        "  \"\"\"\n",
        "  def __init__(self, X, Y):\n",
        "    self.X = X\n",
        "    print(X.shape)\n",
        "    self.Y = Y\n",
        "    print(Y.shape)\n",
        "    if len(self.X) != len(self.Y):\n",
        "      raise Exception(\"The length of X does not match the length of Y\")\n",
        "\n",
        "  def __len__(self):\n",
        "    return len(self.X)\n",
        "\n",
        "  def __getitem__(self, index):\n",
        "    # note that this isn't randomly selecting. It's a simple get a single item that represents an x and y\n",
        "      _x = self.X[index]\n",
        "      _y = self.Y[index]\n",
        "  \n",
        "      return _x, _y\n",
        "\n",
        "\n",
        "\n",
        "loader_A = DataLoader(RocketDataset(train_X_tensor, train_y_A_tensor), batch_size=32, shuffle=True)\n",
        "loader_B= DataLoader(RocketDataset(train_X_tensor, train_y_B_tensor), batch_size=32, shuffle=True)\n",
        "loader_train = {'A':loader_A,'B':loader_B}\n",
        "\n",
        "for i in range(0, 5):\n",
        "  # next x and next y\n",
        "  x, y = next(iter(loader_A))\n",
        "  print(x)\n",
        "  print(y)"
      ],
      "metadata": {
        "id": "QW3v2DVAWzqe"
      },
      "execution_count": null,
      "outputs": []
    },
    {
      "cell_type": "code",
      "source": [
        "ic(train_y[\"A\"].shape)\n",
        "ic(train_y['B'].shape)\n",
        "ic(train_X.shape)\n",
        "ic(test.shape)"
      ],
      "metadata": {
        "id": "uf76dVijW5o_"
      },
      "execution_count": null,
      "outputs": []
    },
    {
      "cell_type": "code",
      "source": [
        "BATCH_SIZE=32\n",
        "class training_global(nn.Module): \n",
        "    def __init__(self,criterion,device,opt,weight_decay,regularization=None,ckpt_save_path=None):\n",
        "        super().__init__()\n",
        "        self.criterion = criterion\n",
        "        self.device = device\n",
        "        self.regularization = regularization\n",
        "        self.optimizer = opt\n",
        "        self.state={}\n",
        "        self.ckpt_save_path= ckpt_save_path\n",
        "        self.weight_decay = weight_decay\n",
        "    \n",
        "    def __train_epoch(self,traindata,epoch):\n",
        "        epoch_train_loss = 0\n",
        "        epoch_train_acc  = 0 \n",
        "        epoch_test_loss  = 0\n",
        "        epoch_test_acc   = 0 \n",
        "        for idx, data in enumerate(traindata):\n",
        "            \n",
        "            self.opt.zero_grad()\n",
        "            input,label = data\n",
        "            \n",
        "            input = input.reshape(-1,self.input_size)\n",
        "            b_size,n_features = input.shape\n",
        "            if b_size==BATCH_SIZE:\n",
        "                output = self(input,'Train',epoch) # self c'est le modèle\n",
        "  \n",
        "                # output = output.type(torch.LongTensor)\n",
        "                label = label.type(torch.LongTensor)\n",
        "\n",
        "                loss = self.criterion(output,label)\n",
        "\n",
        "                if self.regularization == 'L1':\n",
        "                    l1_lambda = 0.007253\n",
        "                    l1_penalty = sum(p.abs().sum() for p in self.parameters())\n",
        "                    loss = loss + l1_lambda * l1_penalty\n",
        "                if self.regularization ==\"L2\":\n",
        "                    l2_lambda = 0.07253\n",
        "                    l2_penalty = sum(p.pow(2.0).sum() for p in self.parameters())\n",
        "                    loss = loss + l2_lambda*l2_penalty\n",
        "\n",
        "                n_correct = (torch.argmax(output,dim=1)==label).sum().item()\n",
        "                total     = label.size(0)\n",
        "            \n",
        "                epoch_train_acc += n_correct/total\n",
        "                loss.backward()\n",
        "                self.opt.step()\n",
        "                epoch_train_loss += loss.item()\n",
        "\n",
        "        # with torch.no_grad():\n",
        "        #     for idx,data in enumerate(testdata):\n",
        "        #         input,label = data\n",
        "        #         input = input.reshape(-1,self.input_size)\n",
        "        #         b_size,n_features = input.shape\n",
        "        #         if b_size==BATCH_SIZE:\n",
        "        #             output = self(input,'Test',epoch) # self c'est le modèle\n",
        "        #             loss = self.criterion(output,label)\n",
        "        #             n_correct = (torch.argmax(output,dim=1)==label).sum().item()\n",
        "        #             total     = label.size(0)\n",
        "        #             epoch_test_acc += n_correct/total\n",
        "        #             epoch_test_loss += loss.item()\n",
        "        \n",
        "\n",
        "\n",
        "        return epoch_train_loss/len(traindata),epoch_train_acc/len(traindata)\n",
        "\n",
        "    def __validate(self, dataloader,epoch):\n",
        "        epoch_loss = 0\n",
        "        epoch_acc  = 0\n",
        "        for idx, data in enumerate(dataloader):\n",
        "            self.opt.zero_grad()\n",
        "            input,label = data\n",
        "            \n",
        "            input = input.reshape(-1,self.input_size)\n",
        "            b_size,n_features = input.shape\n",
        "            if b_size==BATCH_SIZE:\n",
        "                output = self(input,'val',epoch) # self c'est le modèle\n",
        "                loss = self.criterion(output,label)\n",
        "                n_correct = (torch.argmax(output,dim=1)==label).sum().item()\n",
        "                total     = label.size(0)\n",
        "                epoch_acc += n_correct/total\n",
        "                epoch_loss += loss.item()\n",
        "\n",
        "            \n",
        "        return epoch_loss/len(dataloader), epoch_acc/len(dataloader)\n",
        "\n",
        "\n",
        "    def fit(self, traindata,testdata=None,validation_data=None,batch_size=300, start_epoch=0, n_epochs=1000, lr=0.001, verbose=10,ckpt=None):\n",
        "        ic(lr)\n",
        "        \n",
        "        parameters = self.parameters()\n",
        "        if self.optimizer==\"SGD\":\n",
        "            self.opt = optim.SGD(parameters,lr=lr,momentum=0.9)\n",
        "        if self.optimizer=='Adam':\n",
        "            self.opt = torch.optim.Adam(parameters, lr=lr, weight_decay=self.weight_decay, amsgrad=False)\n",
        "        start_time = datetime.datetime.now().strftime(\"%Y%m%d-%H%M%S\")\n",
        "        \n",
        "      \n",
        "\n",
        "        if ckpt:\n",
        "            state = torch.load(ckpt)\n",
        "            start_epoch = state['epoch']\n",
        "            self.load_state_dict(state['state_dict'])\n",
        "            for g in self.opt.param_groups:\n",
        "                g['lr'] = state['lr']\n",
        "            \n",
        "        for epoch in range(start_epoch,n_epochs):\n",
        "            epoch_train_loss,epoch_train_acc = self.__train_epoch(traindata,epoch)\n",
        "            print(f'\\n Epoch {epoch+1} \\n',\n",
        "                        f'Train Loss= {epoch_train_loss:.4f}\\n',f'Train Acc={epoch_train_acc:.4f}\\n')\n",
        "            \n",
        "            \n",
        "\n",
        "            # if epoch % 10 ==0 : \n",
        "            #     self.__weights_histo(epoch) #using weight histograms to have the weights of each linear layer. \n",
        "            # if validation_data is not None:\n",
        "            #     with torch.no_grad():\n",
        "            #         val_loss, val_acc = self.__validate(validation_data,epoch)\n",
        "            #     print('Epoch {:2d} loss_val: {:1.4f}  val_acc: {:1.4f} '.format(epoch+1, val_loss, val_acc))\n",
        "  \n",
        "            if self.ckpt_save_path:\n",
        "                self.state['lr'] = lr\n",
        "                self.state['epoch'] = epoch\n",
        "                self.state['state_dict'] = self.state_dict()\n",
        "                if not os.path.exists(self.ckpt_save_path):\n",
        "                    os.mkdir(self.ckpt_save_path)\n",
        "                torch.save(self.state, os.path.join(self.ckpt_save_path, f'ckpt_{start_time}_epoch{epoch}.ckpt'))\n",
        "\n",
        "   "
      ],
      "metadata": {
        "id": "DdJxkVn4alnL"
      },
      "execution_count": null,
      "outputs": []
    },
    {
      "cell_type": "code",
      "source": [
        "\n",
        "\n",
        "class DummyNet(training_global):\n",
        "    def __init__(self,input_size,hidden_dim,output_size,criterion,device,opt,dropout, regularization=None,ckpt_save_path='//content/drive/MyDrive/Colab/HEC_MAJEUR/AI_ADVANCED/tabular-playground-series-oct-2022/runs',weight_decay=0):\n",
        "        super(DummyNet,self).__init__(regularization = regularization,criterion =criterion,device = device,opt =  opt,ckpt_save_path= ckpt_save_path,weight_decay=weight_decay)\n",
        "        self.input_size = input_size\n",
        "        self.output_size = output_size\n",
        "        self.linear1 = nn.Linear(input_size,hidden_dim)\n",
        "        self.linear2 = nn.Linear(hidden_dim,hidden_dim)\n",
        "        self.linear3 = nn.Linear(hidden_dim,output_size)\n",
        "        self.activation = nn.ReLU()\n",
        "        self.grads={}\n",
        "        self.dropout1 = nn.Dropout(p=dropout)\n",
        "        self.dropout2 = nn.Dropout(p=dropout)\n",
        "        \n",
        "\n",
        "    def forward(self,x,mode,epoch):\n",
        "        \"model changed to add dropout, regularisation and batchnorm\"\n",
        "        x1 = self.linear1(x)\n",
        "        x1 = self.dropout1(x1)\n",
        "        x2 = self.linear2(x1)\n",
        "        x2 = self.dropout2(x2)\n",
        "        out   = self.activation(self.linear3(x2))\n",
        "        return out \n",
        "            \n",
        "\n"
      ],
      "metadata": {
        "id": "XWrCyMI2qgc8"
      },
      "execution_count": null,
      "outputs": []
    },
    {
      "cell_type": "code",
      "source": [
        "criterion = torch.nn.CrossEntropyLoss()\n",
        "regularization = \"L1\"\n",
        "net = DummyNet(input_size=X_train.shape[1],hidden_dim=100,output_size=2,device = device,criterion=criterion,regularization = None,dropout=0.3, opt='Adam',weight_decay = 0.009348818325128058)\n",
        "\n",
        "\n",
        "      "
      ],
      "metadata": {
        "id": "clEvKiEWxEmi"
      },
      "execution_count": null,
      "outputs": []
    },
    {
      "cell_type": "code",
      "source": [
        "test_predictions = {'A': [], 'B': [] }\n",
        "\n",
        "for key in test_predictions:\n",
        "\n",
        "  net.fit(loader_train[key])"
      ],
      "metadata": {
        "id": "fdKNgf7DtrFK"
      },
      "execution_count": null,
      "outputs": []
    },
    {
      "cell_type": "markdown",
      "source": [
        "# ResNet"
      ],
      "metadata": {
        "id": "OCif-kq9ZrF8"
      }
    },
    {
      "cell_type": "code",
      "source": [
        "\n",
        "\n",
        "class resblock(nn.Module):\n",
        "    def __init__(self, in_channels, out_channels, downsample):\n",
        "        super().__init__()\n",
        "        if downsample:\n",
        "            self.conv1 = nn.Conv2d(in_channels, out_channels, kernel_size=3, stride=2, padding=1)\n",
        "            self.shortcut = nn.Sequential(\n",
        "                nn.Conv2d(in_channels, out_channels, kernel_size=1, stride=2),\n",
        "                nn.BatchNorm2d(out_channels)\n",
        "            )\n",
        "        else:\n",
        "            self.conv1 = nn.Conv2d(in_channels, out_channels, kernel_size=3, stride=1, padding=1)\n",
        "            self.shortcut = nn.Sequential()\n",
        "\n",
        "        self.conv2 = nn.Conv2d(out_channels, out_channels, kernel_size=3, stride=1, padding=1)\n",
        "        self.bn1 = nn.BatchNorm2d(out_channels)\n",
        "        self.bn2 = nn.BatchNorm2d(out_channels)\n",
        "\n",
        "    def forward(self, input):\n",
        "        shortcut = self.shortcut(input)\n",
        "        input = nn.ReLU()(self.bn1(self.conv1(input)))\n",
        "        input = nn.ReLU()(self.bn2(self.conv2(input)))\n",
        "        input = input + shortcut\n",
        "        return nn.ReLU()(input)\n",
        "\n",
        "class ResNet(training_global):\n",
        "  def __init__(self,\n",
        "    in_channels,\n",
        "    hidden_dim,\n",
        "    out_size,\n",
        "    criterion,\n",
        "    device,\n",
        "    opt,\n",
        "    dropout, \n",
        "    regularization=None,\n",
        "    ckpt_save_path='//content/drive/MyDrive/Colab/HEC_MAJEUR/AI_ADVANCED/tabular-playground-series-oct-2022/runs',\n",
        "    weight_decay=0):\n",
        "    \n",
        "    super(ResNet,self).__init__(regularization = regularization,criterion =criterion,device = device,opt =  opt,ckpt_save_path= ckpt_save_path,weight_decay=weight_decay)\n",
        "  \n",
        "    self.layer0 = nn.Sequential(\n",
        "      nn.Conv2D(in_channels, hidden_dim, kernel_size=7, stride=2, padding=3),\n",
        "      nn.MaxPool2d(kernel_size=3, stride=2, padding=1),\n",
        "      nn.BatchNorm2d(hidden_dim),\n",
        "      nn.ReLU()\n",
        "        )\n",
        "    self.layer1 = nn.Sequential(\n",
        "        resblock(hidden_dim,hidden_dim , downsample=False),\n",
        "        resblock(hidden_dim, hidden_dim, downsample=False)\n",
        "    )\n",
        "\n",
        "    self.layer2 = nn.Sequential(\n",
        "        resblock(hidden_dim, hidden_dim*2, downsample=True),\n",
        "        resblock(hidden_dim*2,hidden_dim*2, downsample=False)\n",
        "    )\n",
        "\n",
        "    self.layer3 = nn.Sequential(\n",
        "        resblock(hidden_dim*2, hidden_dim*3, downsample=True),\n",
        "        resblock(256, 256, downsample=False)\n",
        "    )\n",
        "\n",
        "\n",
        "    self.layer4 = nn.Sequential(\n",
        "        resblock(hidden_dim*4, hidden_dim*8, downsample=True),\n",
        "        resblock(hidden_dim*8, hidden_dim*8, downsample=False)\n",
        "    )\n",
        "\n",
        "\n",
        "    self.gap = torch.nn.AdaptiveAvgPool2d(1)\n",
        "    self.fc = torch.nn.Linear(hidden_dim*8, out_size)\n",
        "\n",
        "\n",
        "        \n",
        "\n",
        "    def forward(self, input):\n",
        "        input = self.layer0(input)\n",
        "        input = self.layer1(input)\n",
        "        input = self.layer2(input)\n",
        "        input = self.layer3(input)\n",
        "        input = self.layer4(input)\n",
        "        input = self.gap(input)\n",
        "        input = torch.flatten(input)\n",
        "        out = self.fc(input)\n",
        "\n",
        "        return out\n",
        "            \n",
        "\n"
      ],
      "metadata": {
        "id": "ecE7Dst8Ztnh"
      },
      "execution_count": null,
      "outputs": []
    },
    {
      "cell_type": "code",
      "source": [
        "criterion = torch.nn.CrossEntropyLoss()\n",
        "regularization = \"L1\"\n",
        "net = DummyNet(input_size=X_train.shape[1],hidden_dim=100,output_size=2,device = device,criterion=criterion,regularization = None,dropout=0.3, opt='Adam',weight_decay = 0.009348818325128058)\n",
        "\n"
      ],
      "metadata": {
        "id": "JDa097NbZtlm"
      },
      "execution_count": null,
      "outputs": []
    },
    {
      "cell_type": "code",
      "source": [
        "test_predictions = {'A': [], 'B': [] }\n",
        "\n",
        "for key in test_predictions:\n",
        "\n",
        "  net.fit(loader_train[key])"
      ],
      "metadata": {
        "id": "GNy9behJfkF7"
      },
      "execution_count": null,
      "outputs": []
    }
  ]
}